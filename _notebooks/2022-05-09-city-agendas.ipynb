{
 "cells": [
  {
   "cell_type": "markdown",
   "id": "9f071065",
   "metadata": {},
   "source": [
    "# \"Projects that shouldn't exist: agendas.cvilledata.org\"\n",
    "> Making Charlottesville city agendas searchable\n",
    "\n",
    "- author: Josh Carp\n",
    "- categories: [transparency]"
   ]
  },
  {
   "cell_type": "markdown",
   "id": "126817b6",
   "metadata": {},
   "source": [
    "On April 18, the Charlottesville City Council [approved](https://twitter.com/socialistdogmom/status/1516235840556519432) a housing development at 240 Stribling Avenue. The project has been on the city agenda since 2019, and the Daily Progress has [covered](https://dailyprogress.com/news/local/planners-discuss-170-unit-complex-on-stribling-avenue/article_3c846d1c-bc83-5fab-9181-07c263814fae.html) [the](https://dailyprogress.com/news/local/govt-and-politics/neighbors-pan-potential-170-unit-development-on-stribling-avenue/article_1ad04c22-60bd-57c2-a30d-940f405d0d49.html) [topic](https://dailyprogress.com/news/future-of-proposed-partially-affordable-housing-complex-on-stribling-ave-unclear/article_9d1ce2c0-15b3-11ec-9980-ff9553fc95ea.html) [extensively](https://dailyprogress.com/news/local/govt-and-politics/high-cost-of-stribling-ave-sidewalk-project-continues-to-make-future-of-controversial-affordable-housing/article_6337fe04-3382-11ec-9946-c3aa3d9910be.html)—although so far I haven't found any coverage there of the final vote approving the rezoning. But it's not easy to find a history of the project as it's wound through city government.\n",
    "\n",
    "Try searching the city website: as of this writing, [no results](https://www.charlottesville.gov/Search?searchPhrase=%22240+stribling%22). A Google site search turns up [a few hits](https://www.google.com/search?q=site%3Acharlottesville.gov+%22240+stribling%22), but none related to the rezoning. A site search of the [content management system that the city uses for public meetings](https://charlottesvilleva.civicclerk.com/web/home.aspx) returns [three results](https://www.google.com/search?q=site%3Acharlottesvilleva.civicclerk.com+%22240+stribling%22), covering two Planning Commission meetings. But there were more than two city meetings about this project! Finally, the city meetings website has a basic search feature that actually yields some useful results—but without previews, it's hard to tell which documents are relevant. And this search tool only exists within the CMS, so it can't be discovered by Google:\n",
    "\n",
    "<img src=\"images/meeting-portal-search.png\" width=\"480\">\n",
    "\n",
    "I wanted a collection of city meetings that would be easy to search without proprietary tools, so I wrote a program to collect all the documents from the [city meetings website](https://charlottesvilleva.civicclerk.com/web/home.aspx), convert PDF files to text, and search documents by content. The result is https://agendas.cvilledata.org, and if you use the search bar at the top of the page to look for \"240 stribling\", you'll find multiple City Council and Planning Commission meetings, as well as the [original Planning Commission work session](https://agendas.cvilledata.org/planning-commission-work-session/2019-08-27T17:00:00/original/) at which the idea for the development was first discussed. Or if you don't want to be subjected to my limited web design skills, the content is also indexed by Google, so a [site search](https://www.google.com/search?q=site%3Aagendas.cvilledata.org+%22240+stribling%22) works as usual.\n",
    "\n",
    "Ideally this project wouldn't exist, and the city website would be easy to search. Failing that, the city could provide documents for public meetings on a public FTP server for easy access. But City Hall is [short-staffed](https://twitter.com/socialistdogmom/status/1511115903471173639), so for now I'll use my own project to search meeting documents. Hopefully I can retire the [code](https://github.com/jmcarp/cville-city-agendas) I wrote someday, because it's sort of a mess. In particular, it uses [Selenium](https://www.selenium.dev/) to crawl the city's meeting portal, since I couldn't figure out how to paginate the meetings table without executing javascript. One silver lining is that it's fun to watch the program navigate the city website automatically, so I'll end this writeup with a video:\n",
    "\n",
    "<video width=\"480\" controls>\n",
    "  <source src=\"/images/copied_from_nb/images/selenium-agendas.mov\" type=\"video/mp4\">\n",
    "</video>\n",
    "<!-- Hack: add an invisible <img> to cause fastpages to copy the .mov. -->\n",
    "<img src=\"images/selenium-agendas.mov\" width=\"480\" style=\"display: none;\">\n",
    "\n",
    "This is a project I made mostly for myself, but let me know if you find it useful."
   ]
  }
 ],
 "metadata": {
  "kernelspec": {
   "display_name": "Python 3 (ipykernel)",
   "language": "python",
   "name": "python3"
  },
  "language_info": {
   "codemirror_mode": {
    "name": "ipython",
    "version": 3
   },
   "file_extension": ".py",
   "mimetype": "text/x-python",
   "name": "python",
   "nbconvert_exporter": "python",
   "pygments_lexer": "ipython3",
   "version": "3.9.6"
  }
 },
 "nbformat": 4,
 "nbformat_minor": 5
}
